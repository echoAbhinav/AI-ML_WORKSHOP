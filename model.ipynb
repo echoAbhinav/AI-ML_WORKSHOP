{
  "metadata": {
    "kernelspec": {
      "language": "python",
      "display_name": "Python 3",
      "name": "python3"
    },
    "language_info": {
      "name": "python",
      "version": "3.10.12",
      "mimetype": "text/x-python",
      "codemirror_mode": {
        "name": "ipython",
        "version": 3
      },
      "pygments_lexer": "ipython3",
      "nbconvert_exporter": "python",
      "file_extension": ".py"
    },
    "kaggle": {
      "accelerator": "nvidiaTeslaT4",
      "dataSources": [],
      "dockerImageVersionId": 30839,
      "isInternetEnabled": true,
      "language": "python",
      "sourceType": "notebook",
      "isGpuEnabled": true
    },
    "colab": {
      "name": "AIMLWORKSHOP_PROJECT",
      "provenance": []
    }
  },
  "nbformat_minor": 0,
  "nbformat": 4,
  "cells": [
    {
      "cell_type": "code",
      "source": [
        "import tensorflow as tf\n",
        "from sklearn.ensemble import RandomForestClassifier\n",
        "from sklearn.metrics import accuracy_score,classification_report, confusion_matrix\n",
        "import time\n",
        "from tensorflow import keras\n",
        "import matplotlib.pyplot as plt\n",
        "%matplotlib inline\n",
        "import numpy as np\n",
        "import seaborn as sns"
      ],
      "metadata": {
        "_uuid": "8f2839f25d086af736a60e9eeb907d3b93b6e0e5",
        "_cell_guid": "b1076dfc-b9ad-4769-8c92-a6c4dae69d19",
        "trusted": true,
        "execution": {
          "iopub.status.busy": "2025-01-29T19:29:52.427426Z",
          "iopub.execute_input": "2025-01-29T19:29:52.427715Z",
          "iopub.status.idle": "2025-01-29T19:30:06.349719Z",
          "shell.execute_reply.started": "2025-01-29T19:29:52.427684Z",
          "shell.execute_reply": "2025-01-29T19:30:06.348829Z"
        },
        "id": "iz3KOLjem5XJ"
      },
      "outputs": [],
      "execution_count": null
    },
    {
      "cell_type": "markdown",
      "source": [],
      "metadata": {
        "id": "SOA6a9h-s5H_"
      }
    },
    {
      "cell_type": "markdown",
      "source": [],
      "metadata": {
        "id": "k_b8-O6bm5XM"
      }
    },
    {
      "cell_type": "code",
      "source": [
        "# Load MNIST dataset\n",
        "(X_train,y_train),(X_test,y_test)=tf.keras.datasets.mnist.load_data()"
      ],
      "metadata": {
        "trusted": true,
        "execution": {
          "iopub.status.busy": "2025-01-29T19:30:06.35102Z",
          "iopub.execute_input": "2025-01-29T19:30:06.351576Z",
          "iopub.status.idle": "2025-01-29T19:30:06.809044Z",
          "shell.execute_reply.started": "2025-01-29T19:30:06.351545Z",
          "shell.execute_reply": "2025-01-29T19:30:06.808385Z"
        },
        "id": "X4l6fg5im5XN",
        "outputId": "eaca8df0-41fb-4163-97d1-1b72d7af873e"
      },
      "outputs": [
        {
          "name": "stdout",
          "text": "Downloading data from https://storage.googleapis.com/tensorflow/tf-keras-datasets/mnist.npz\n\u001b[1m11490434/11490434\u001b[0m \u001b[32m━━━━━━━━━━━━━━━━━━━━\u001b[0m\u001b[37m\u001b[0m \u001b[1m0s\u001b[0m 0us/step\n",
          "output_type": "stream"
        }
      ],
      "execution_count": null
    },
    {
      "cell_type": "code",
      "source": [
        "len(X_train)"
      ],
      "metadata": {
        "trusted": true,
        "execution": {
          "iopub.status.busy": "2025-01-29T19:30:06.810619Z",
          "iopub.execute_input": "2025-01-29T19:30:06.81087Z",
          "iopub.status.idle": "2025-01-29T19:30:06.81641Z",
          "shell.execute_reply.started": "2025-01-29T19:30:06.810849Z",
          "shell.execute_reply": "2025-01-29T19:30:06.815667Z"
        },
        "id": "VqksT7SEm5XN",
        "outputId": "8e26dc8e-8533-45dd-8181-20a7269c2c9c"
      },
      "outputs": [
        {
          "execution_count": 3,
          "output_type": "execute_result",
          "data": {
            "text/plain": "60000"
          },
          "metadata": {}
        }
      ],
      "execution_count": null
    },
    {
      "cell_type": "code",
      "source": [
        "len(X_test)"
      ],
      "metadata": {
        "trusted": true,
        "execution": {
          "iopub.status.busy": "2025-01-29T19:30:06.81746Z",
          "iopub.execute_input": "2025-01-29T19:30:06.81773Z",
          "iopub.status.idle": "2025-01-29T19:30:06.833508Z",
          "shell.execute_reply.started": "2025-01-29T19:30:06.817701Z",
          "shell.execute_reply": "2025-01-29T19:30:06.832829Z"
        },
        "id": "YnP0Q7wkm5XO",
        "outputId": "54f5eb0d-7fb7-4cdd-b384-88a0443c4887"
      },
      "outputs": [
        {
          "execution_count": 4,
          "output_type": "execute_result",
          "data": {
            "text/plain": "10000"
          },
          "metadata": {}
        }
      ],
      "execution_count": null
    },
    {
      "cell_type": "code",
      "source": [
        "X_train[0].shape"
      ],
      "metadata": {
        "trusted": true,
        "execution": {
          "iopub.status.busy": "2025-01-29T19:30:06.834363Z",
          "iopub.execute_input": "2025-01-29T19:30:06.834658Z",
          "iopub.status.idle": "2025-01-29T19:30:06.847888Z",
          "shell.execute_reply.started": "2025-01-29T19:30:06.834631Z",
          "shell.execute_reply": "2025-01-29T19:30:06.847267Z"
        },
        "id": "ohk7ePZxm5XO",
        "outputId": "316c4d73-6286-4b75-8097-46e22c129763"
      },
      "outputs": [
        {
          "execution_count": 5,
          "output_type": "execute_result",
          "data": {
            "text/plain": "(28, 28)"
          },
          "metadata": {}
        }
      ],
      "execution_count": null
    },
    {
      "cell_type": "code",
      "source": [
        "X_train[0]"
      ],
      "metadata": {
        "trusted": true,
        "execution": {
          "iopub.status.busy": "2025-01-29T19:30:06.84868Z",
          "iopub.execute_input": "2025-01-29T19:30:06.848903Z",
          "iopub.status.idle": "2025-01-29T19:30:06.865141Z",
          "shell.execute_reply.started": "2025-01-29T19:30:06.848875Z",
          "shell.execute_reply": "2025-01-29T19:30:06.864395Z"
        },
        "id": "JIreFhFOm5XO",
        "outputId": "507eb837-a862-4b10-fa62-b4ed31e4a584"
      },
      "outputs": [
        {
          "execution_count": 6,
          "output_type": "execute_result",
          "data": {
            "text/plain": "array([[  0,   0,   0,   0,   0,   0,   0,   0,   0,   0,   0,   0,   0,\n          0,   0,   0,   0,   0,   0,   0,   0,   0,   0,   0,   0,   0,\n          0,   0],\n       [  0,   0,   0,   0,   0,   0,   0,   0,   0,   0,   0,   0,   0,\n          0,   0,   0,   0,   0,   0,   0,   0,   0,   0,   0,   0,   0,\n          0,   0],\n       [  0,   0,   0,   0,   0,   0,   0,   0,   0,   0,   0,   0,   0,\n          0,   0,   0,   0,   0,   0,   0,   0,   0,   0,   0,   0,   0,\n          0,   0],\n       [  0,   0,   0,   0,   0,   0,   0,   0,   0,   0,   0,   0,   0,\n          0,   0,   0,   0,   0,   0,   0,   0,   0,   0,   0,   0,   0,\n          0,   0],\n       [  0,   0,   0,   0,   0,   0,   0,   0,   0,   0,   0,   0,   0,\n          0,   0,   0,   0,   0,   0,   0,   0,   0,   0,   0,   0,   0,\n          0,   0],\n       [  0,   0,   0,   0,   0,   0,   0,   0,   0,   0,   0,   0,   3,\n         18,  18,  18, 126, 136, 175,  26, 166, 255, 247, 127,   0,   0,\n          0,   0],\n       [  0,   0,   0,   0,   0,   0,   0,   0,  30,  36,  94, 154, 170,\n        253, 253, 253, 253, 253, 225, 172, 253, 242, 195,  64,   0,   0,\n          0,   0],\n       [  0,   0,   0,   0,   0,   0,   0,  49, 238, 253, 253, 253, 253,\n        253, 253, 253, 253, 251,  93,  82,  82,  56,  39,   0,   0,   0,\n          0,   0],\n       [  0,   0,   0,   0,   0,   0,   0,  18, 219, 253, 253, 253, 253,\n        253, 198, 182, 247, 241,   0,   0,   0,   0,   0,   0,   0,   0,\n          0,   0],\n       [  0,   0,   0,   0,   0,   0,   0,   0,  80, 156, 107, 253, 253,\n        205,  11,   0,  43, 154,   0,   0,   0,   0,   0,   0,   0,   0,\n          0,   0],\n       [  0,   0,   0,   0,   0,   0,   0,   0,   0,  14,   1, 154, 253,\n         90,   0,   0,   0,   0,   0,   0,   0,   0,   0,   0,   0,   0,\n          0,   0],\n       [  0,   0,   0,   0,   0,   0,   0,   0,   0,   0,   0, 139, 253,\n        190,   2,   0,   0,   0,   0,   0,   0,   0,   0,   0,   0,   0,\n          0,   0],\n       [  0,   0,   0,   0,   0,   0,   0,   0,   0,   0,   0,  11, 190,\n        253,  70,   0,   0,   0,   0,   0,   0,   0,   0,   0,   0,   0,\n          0,   0],\n       [  0,   0,   0,   0,   0,   0,   0,   0,   0,   0,   0,   0,  35,\n        241, 225, 160, 108,   1,   0,   0,   0,   0,   0,   0,   0,   0,\n          0,   0],\n       [  0,   0,   0,   0,   0,   0,   0,   0,   0,   0,   0,   0,   0,\n         81, 240, 253, 253, 119,  25,   0,   0,   0,   0,   0,   0,   0,\n          0,   0],\n       [  0,   0,   0,   0,   0,   0,   0,   0,   0,   0,   0,   0,   0,\n          0,  45, 186, 253, 253, 150,  27,   0,   0,   0,   0,   0,   0,\n          0,   0],\n       [  0,   0,   0,   0,   0,   0,   0,   0,   0,   0,   0,   0,   0,\n          0,   0,  16,  93, 252, 253, 187,   0,   0,   0,   0,   0,   0,\n          0,   0],\n       [  0,   0,   0,   0,   0,   0,   0,   0,   0,   0,   0,   0,   0,\n          0,   0,   0,   0, 249, 253, 249,  64,   0,   0,   0,   0,   0,\n          0,   0],\n       [  0,   0,   0,   0,   0,   0,   0,   0,   0,   0,   0,   0,   0,\n          0,  46, 130, 183, 253, 253, 207,   2,   0,   0,   0,   0,   0,\n          0,   0],\n       [  0,   0,   0,   0,   0,   0,   0,   0,   0,   0,   0,   0,  39,\n        148, 229, 253, 253, 253, 250, 182,   0,   0,   0,   0,   0,   0,\n          0,   0],\n       [  0,   0,   0,   0,   0,   0,   0,   0,   0,   0,  24, 114, 221,\n        253, 253, 253, 253, 201,  78,   0,   0,   0,   0,   0,   0,   0,\n          0,   0],\n       [  0,   0,   0,   0,   0,   0,   0,   0,  23,  66, 213, 253, 253,\n        253, 253, 198,  81,   2,   0,   0,   0,   0,   0,   0,   0,   0,\n          0,   0],\n       [  0,   0,   0,   0,   0,   0,  18, 171, 219, 253, 253, 253, 253,\n        195,  80,   9,   0,   0,   0,   0,   0,   0,   0,   0,   0,   0,\n          0,   0],\n       [  0,   0,   0,   0,  55, 172, 226, 253, 253, 253, 253, 244, 133,\n         11,   0,   0,   0,   0,   0,   0,   0,   0,   0,   0,   0,   0,\n          0,   0],\n       [  0,   0,   0,   0, 136, 253, 253, 253, 212, 135, 132,  16,   0,\n          0,   0,   0,   0,   0,   0,   0,   0,   0,   0,   0,   0,   0,\n          0,   0],\n       [  0,   0,   0,   0,   0,   0,   0,   0,   0,   0,   0,   0,   0,\n          0,   0,   0,   0,   0,   0,   0,   0,   0,   0,   0,   0,   0,\n          0,   0],\n       [  0,   0,   0,   0,   0,   0,   0,   0,   0,   0,   0,   0,   0,\n          0,   0,   0,   0,   0,   0,   0,   0,   0,   0,   0,   0,   0,\n          0,   0],\n       [  0,   0,   0,   0,   0,   0,   0,   0,   0,   0,   0,   0,   0,\n          0,   0,   0,   0,   0,   0,   0,   0,   0,   0,   0,   0,   0,\n          0,   0]], dtype=uint8)"
          },
          "metadata": {}
        }
      ],
      "execution_count": null
    },
    {
      "cell_type": "code",
      "source": [
        "plt.matshow(X_train[0])"
      ],
      "metadata": {
        "trusted": true,
        "execution": {
          "iopub.status.busy": "2025-01-29T19:30:06.865783Z",
          "iopub.execute_input": "2025-01-29T19:30:06.866084Z",
          "iopub.status.idle": "2025-01-29T19:30:07.171239Z",
          "shell.execute_reply.started": "2025-01-29T19:30:06.86606Z",
          "shell.execute_reply": "2025-01-29T19:30:07.170513Z"
        },
        "id": "iGwKLPMHm5XP",
        "outputId": "0598c55d-9299-4556-fbb4-839833126409"
      },
      "outputs": [
        {
          "execution_count": 7,
          "output_type": "execute_result",
          "data": {
            "text/plain": "<matplotlib.image.AxesImage at 0x7ab799e8d270>"
          },
          "metadata": {}
        },
        {
          "output_type": "display_data",
          "data": {
            "text/plain": "<Figure size 480x480 with 1 Axes>",
            "image/png": "[encoded data removed]"
          },
          "metadata": {}
        }
      ],
      "execution_count": null
    },
    {
      "cell_type": "code",
      "source": [
        "y_train[0]"
      ],
      "metadata": {
        "trusted": true,
        "execution": {
          "iopub.status.busy": "2025-01-29T19:30:07.171949Z",
          "iopub.execute_input": "2025-01-29T19:30:07.172153Z",
          "iopub.status.idle": "2025-01-29T19:30:07.177118Z",
          "shell.execute_reply.started": "2025-01-29T19:30:07.172136Z",
          "shell.execute_reply": "2025-01-29T19:30:07.176115Z"
        },
        "id": "IVWPCRXOm5XP",
        "outputId": "9bade10c-4d6e-4aa9-bf28-afe4c9d3ac8d"
      },
      "outputs": [
        {
          "execution_count": 8,
          "output_type": "execute_result",
          "data": {
            "text/plain": "5"
          },
          "metadata": {}
        }
      ],
      "execution_count": null
    },
    {
      "cell_type": "code",
      "source": [
        "X_train=X_train/255\n",
        "X_test=X_test/255"
      ],
      "metadata": {
        "trusted": true,
        "execution": {
          "iopub.status.busy": "2025-01-29T19:30:07.179839Z",
          "iopub.execute_input": "2025-01-29T19:30:07.180042Z",
          "iopub.status.idle": "2025-01-29T19:30:07.345728Z",
          "shell.execute_reply.started": "2025-01-29T19:30:07.180025Z",
          "shell.execute_reply": "2025-01-29T19:30:07.345005Z"
        },
        "id": "0IVuQJxWm5XP"
      },
      "outputs": [],
      "execution_count": null
    },
    {
      "cell_type": "code",
      "source": [
        "X_train[0]"
      ],
      "metadata": {
        "trusted": true,
        "execution": {
          "iopub.status.busy": "2025-01-29T19:30:07.347433Z",
          "iopub.execute_input": "2025-01-29T19:30:07.347734Z",
          "iopub.status.idle": "2025-01-29T19:30:07.357748Z",
          "shell.execute_reply.started": "2025-01-29T19:30:07.347713Z",
          "shell.execute_reply": "2025-01-29T19:30:07.356833Z"
        },
        "id": "4Gc2gzIdm5XP",
        "outputId": "ce4149ab-18bb-4588-e843-b6faba313a98"
      },
      "outputs": [
        {
          "execution_count": 10,
          "output_type": "execute_result",
          "data": {
            "text/plain": "array([[0.        , 0.        , 0.        , 0.        , 0.        ,\n        0.        , 0.        , 0.        , 0.        , 0.        ,\n        0.        , 0.        , 0.        , 0.        , 0.        ,\n        0.        , 0.        , 0.        , 0.        , 0.        ,\n        0.        , 0.        , 0.        , 0.        , 0.        ,\n        0.        , 0.        , 0.        ],\n       [0.        , 0.        , 0.        , 0.        , 0.        ,\n        0.        , 0.        , 0.        , 0.        , 0.        ,\n        0.        , 0.        , 0.        , 0.        , 0.        ,\n        0.        , 0.        , 0.        , 0.        , 0.        ,\n        0.        , 0.        , 0.        , 0.        , 0.        ,\n        0.        , 0.        , 0.        ],\n       [0.        , 0.        , 0.        , 0.        , 0.        ,\n        0.        , 0.        , 0.        , 0.        , 0.        ,\n        0.        , 0.        , 0.        , 0.        , 0.        ,\n        0.        , 0.        , 0.        , 0.        , 0.        ,\n        0.        , 0.        , 0.        , 0.        , 0.        ,\n        0.        , 0.        , 0.        ],\n       [0.        , 0.        , 0.        , 0.        , 0.        ,\n        0.        , 0.        , 0.        , 0.        , 0.        ,\n        0.        , 0.        , 0.        , 0.        , 0.        ,\n        0.        , 0.        , 0.        , 0.        , 0.        ,\n        0.        , 0.        , 0.        , 0.        , 0.        ,\n        0.        , 0.        , 0.        ],\n       [0.        , 0.        , 0.        , 0.        , 0.        ,\n        0.        , 0.        , 0.        , 0.        , 0.        ,\n        0.        , 0.        , 0.        , 0.        , 0.        ,\n        0.        , 0.        , 0.        , 0.        , 0.        ,\n        0.        , 0.        , 0.        , 0.        , 0.        ,\n        0.        , 0.        , 0.        ],\n       [0.        , 0.        , 0.        , 0.        , 0.        ,\n        0.        , 0.        , 0.        , 0.        , 0.        ,\n        0.        , 0.        , 0.01176471, 0.07058824, 0.07058824,\n        0.07058824, 0.49411765, 0.53333333, 0.68627451, 0.10196078,\n        0.65098039, 1.        , 0.96862745, 0.49803922, 0.        ,\n        0.        , 0.        , 0.        ],\n       [0.        , 0.        , 0.        , 0.        , 0.        ,\n        0.        , 0.        , 0.        , 0.11764706, 0.14117647,\n        0.36862745, 0.60392157, 0.66666667, 0.99215686, 0.99215686,\n        0.99215686, 0.99215686, 0.99215686, 0.88235294, 0.6745098 ,\n        0.99215686, 0.94901961, 0.76470588, 0.25098039, 0.        ,\n        0.        , 0.        , 0.        ],\n       [0.        , 0.        , 0.        , 0.        , 0.        ,\n        0.        , 0.        , 0.19215686, 0.93333333, 0.99215686,\n        0.99215686, 0.99215686, 0.99215686, 0.99215686, 0.99215686,\n        0.99215686, 0.99215686, 0.98431373, 0.36470588, 0.32156863,\n        0.32156863, 0.21960784, 0.15294118, 0.        , 0.        ,\n        0.        , 0.        , 0.        ],\n       [0.        , 0.        , 0.        , 0.        , 0.        ,\n        0.        , 0.        , 0.07058824, 0.85882353, 0.99215686,\n        0.99215686, 0.99215686, 0.99215686, 0.99215686, 0.77647059,\n        0.71372549, 0.96862745, 0.94509804, 0.        , 0.        ,\n        0.        , 0.        , 0.        , 0.        , 0.        ,\n        0.        , 0.        , 0.        ],\n       [0.        , 0.        , 0.        , 0.        , 0.        ,\n        0.        , 0.        , 0.        , 0.31372549, 0.61176471,\n        0.41960784, 0.99215686, 0.99215686, 0.80392157, 0.04313725,\n        0.        , 0.16862745, 0.60392157, 0.        , 0.        ,\n        0.        , 0.        , 0.        , 0.        , 0.        ,\n        0.        , 0.        , 0.        ],\n       [0.        , 0.        , 0.        , 0.        , 0.        ,\n        0.        , 0.        , 0.        , 0.        , 0.05490196,\n        0.00392157, 0.60392157, 0.99215686, 0.35294118, 0.        ,\n        0.        , 0.        , 0.        , 0.        , 0.        ,\n        0.        , 0.        , 0.        , 0.        , 0.        ,\n        0.        , 0.        , 0.        ],\n       [0.        , 0.        , 0.        , 0.        , 0.        ,\n        0.        , 0.        , 0.        , 0.        , 0.        ,\n        0.        , 0.54509804, 0.99215686, 0.74509804, 0.00784314,\n        0.        , 0.        , 0.        , 0.        , 0.        ,\n        0.        , 0.        , 0.        , 0.        , 0.        ,\n        0.        , 0.        , 0.        ],\n       [0.        , 0.        , 0.        , 0.        , 0.        ,\n        0.        , 0.        , 0.        , 0.        , 0.        ,\n        0.        , 0.04313725, 0.74509804, 0.99215686, 0.2745098 ,\n        0.        , 0.        , 0.        , 0.        , 0.        ,\n        0.        , 0.        , 0.        , 0.        , 0.        ,\n        0.        , 0.        , 0.        ],\n       [0.        , 0.        , 0.        , 0.        , 0.        ,\n        0.        , 0.        , 0.        , 0.        , 0.        ,\n        0.        , 0.        , 0.1372549 , 0.94509804, 0.88235294,\n        0.62745098, 0.42352941, 0.00392157, 0.        , 0.        ,\n        0.        , 0.        , 0.        , 0.        , 0.        ,\n        0.        , 0.        , 0.        ],\n       [0.        , 0.        , 0.        , 0.        , 0.        ,\n        0.        , 0.        , 0.        , 0.        , 0.        ,\n        0.        , 0.        , 0.        , 0.31764706, 0.94117647,\n        0.99215686, 0.99215686, 0.46666667, 0.09803922, 0.        ,\n        0.        , 0.        , 0.        , 0.        , 0.        ,\n        0.        , 0.        , 0.        ],\n       [0.        , 0.        , 0.        , 0.        , 0.        ,\n        0.        , 0.        , 0.        , 0.        , 0.        ,\n        0.        , 0.        , 0.        , 0.        , 0.17647059,\n        0.72941176, 0.99215686, 0.99215686, 0.58823529, 0.10588235,\n        0.        , 0.        , 0.        , 0.        , 0.        ,\n        0.        , 0.        , 0.        ],\n       [0.        , 0.        , 0.        , 0.        , 0.        ,\n        0.        , 0.        , 0.        , 0.        , 0.        ,\n        0.        , 0.        , 0.        , 0.        , 0.        ,\n        0.0627451 , 0.36470588, 0.98823529, 0.99215686, 0.73333333,\n        0.        , 0.        , 0.        , 0.        , 0.        ,\n        0.        , 0.        , 0.        ],\n       [0.        , 0.        , 0.        , 0.        , 0.        ,\n        0.        , 0.        , 0.        , 0.        , 0.        ,\n        0.        , 0.        , 0.        , 0.        , 0.        ,\n        0.        , 0.        , 0.97647059, 0.99215686, 0.97647059,\n        0.25098039, 0.        , 0.        , 0.        , 0.        ,\n        0.        , 0.        , 0.        ],\n       [0.        , 0.        , 0.        , 0.        , 0.        ,\n        0.        , 0.        , 0.        , 0.        , 0.        ,\n        0.        , 0.        , 0.        , 0.        , 0.18039216,\n        0.50980392, 0.71764706, 0.99215686, 0.99215686, 0.81176471,\n        0.00784314, 0.        , 0.        , 0.        , 0.        ,\n        0.        , 0.        , 0.        ],\n       [0.        , 0.        , 0.        , 0.        , 0.        ,\n        0.        , 0.        , 0.        , 0.        , 0.        ,\n        0.        , 0.        , 0.15294118, 0.58039216, 0.89803922,\n        0.99215686, 0.99215686, 0.99215686, 0.98039216, 0.71372549,\n        0.        , 0.        , 0.        , 0.        , 0.        ,\n        0.        , 0.        , 0.        ],\n       [0.        , 0.        , 0.        , 0.        , 0.        ,\n        0.        , 0.        , 0.        , 0.        , 0.        ,\n        0.09411765, 0.44705882, 0.86666667, 0.99215686, 0.99215686,\n        0.99215686, 0.99215686, 0.78823529, 0.30588235, 0.        ,\n        0.        , 0.        , 0.        , 0.        , 0.        ,\n        0.        , 0.        , 0.        ],\n       [0.        , 0.        , 0.        , 0.        , 0.        ,\n        0.        , 0.        , 0.        , 0.09019608, 0.25882353,\n        0.83529412, 0.99215686, 0.99215686, 0.99215686, 0.99215686,\n        0.77647059, 0.31764706, 0.00784314, 0.        , 0.        ,\n        0.        , 0.        , 0.        , 0.        , 0.        ,\n        0.        , 0.        , 0.        ],\n       [0.        , 0.        , 0.        , 0.        , 0.        ,\n        0.        , 0.07058824, 0.67058824, 0.85882353, 0.99215686,\n        0.99215686, 0.99215686, 0.99215686, 0.76470588, 0.31372549,\n        0.03529412, 0.        , 0.        , 0.        , 0.        ,\n        0.        , 0.        , 0.        , 0.        , 0.        ,\n        0.        , 0.        , 0.        ],\n       [0.        , 0.        , 0.        , 0.        , 0.21568627,\n        0.6745098 , 0.88627451, 0.99215686, 0.99215686, 0.99215686,\n        0.99215686, 0.95686275, 0.52156863, 0.04313725, 0.        ,\n        0.        , 0.        , 0.        , 0.        , 0.        ,\n        0.        , 0.        , 0.        , 0.        , 0.        ,\n        0.        , 0.        , 0.        ],\n       [0.        , 0.        , 0.        , 0.        , 0.53333333,\n        0.99215686, 0.99215686, 0.99215686, 0.83137255, 0.52941176,\n        0.51764706, 0.0627451 , 0.        , 0.        , 0.        ,\n        0.        , 0.        , 0.        , 0.        , 0.        ,\n        0.        , 0.        , 0.        , 0.        , 0.        ,\n        0.        , 0.        , 0.        ],\n       [0.        , 0.        , 0.        , 0.        , 0.        ,\n        0.        , 0.        , 0.        , 0.        , 0.        ,\n        0.        , 0.        , 0.        , 0.        , 0.        ,\n        0.        , 0.        , 0.        , 0.        , 0.        ,\n        0.        , 0.        , 0.        , 0.        , 0.        ,\n        0.        , 0.        , 0.        ],\n       [0.        , 0.        , 0.        , 0.        , 0.        ,\n        0.        , 0.        , 0.        , 0.        , 0.        ,\n        0.        , 0.        , 0.        , 0.        , 0.        ,\n        0.        , 0.        , 0.        , 0.        , 0.        ,\n        0.        , 0.        , 0.        , 0.        , 0.        ,\n        0.        , 0.        , 0.        ],\n       [0.        , 0.        , 0.        , 0.        , 0.        ,\n        0.        , 0.        , 0.        , 0.        , 0.        ,\n        0.        , 0.        , 0.        , 0.        , 0.        ,\n        0.        , 0.        , 0.        , 0.        , 0.        ,\n        0.        , 0.        , 0.        , 0.        , 0.        ,\n        0.        , 0.        , 0.        ]])"
          },
          "metadata": {}
        }
      ],
      "execution_count": null
    },
    {
      "cell_type": "code",
      "source": [
        "X_train_flattened=X_train.reshape(len(X_train),28*28)\n",
        "X_test_flattened=X_test.reshape(len(X_test),28*28)"
      ],
      "metadata": {
        "trusted": true,
        "execution": {
          "iopub.status.busy": "2025-01-29T19:30:07.358797Z",
          "iopub.execute_input": "2025-01-29T19:30:07.359097Z",
          "iopub.status.idle": "2025-01-29T19:30:07.370245Z",
          "shell.execute_reply.started": "2025-01-29T19:30:07.359066Z",
          "shell.execute_reply": "2025-01-29T19:30:07.36944Z"
        },
        "id": "I6M2e4qRm5XQ"
      },
      "outputs": [],
      "execution_count": null
    },
    {
      "cell_type": "code",
      "source": [
        "X_train_flattened.shape"
      ],
      "metadata": {
        "trusted": true,
        "execution": {
          "iopub.status.busy": "2025-01-29T19:30:07.3711Z",
          "iopub.execute_input": "2025-01-29T19:30:07.37136Z",
          "iopub.status.idle": "2025-01-29T19:30:07.386516Z",
          "shell.execute_reply.started": "2025-01-29T19:30:07.371327Z",
          "shell.execute_reply": "2025-01-29T19:30:07.385746Z"
        },
        "id": "YdStJyldm5XQ",
        "outputId": "e09e5a49-fe0a-4efe-dcf4-dc0d1dd8ee87"
      },
      "outputs": [
        {
          "execution_count": 12,
          "output_type": "execute_result",
          "data": {
            "text/plain": "(60000, 784)"
          },
          "metadata": {}
        }
      ],
      "execution_count": null
    },
    {
      "cell_type": "code",
      "source": [
        "X_train_flattened[0]"
      ],
      "metadata": {
        "trusted": true,
        "execution": {
          "iopub.status.busy": "2025-01-29T19:30:07.387452Z",
          "iopub.execute_input": "2025-01-29T19:30:07.387755Z",
          "iopub.status.idle": "2025-01-29T19:30:07.404074Z",
          "shell.execute_reply.started": "2025-01-29T19:30:07.387728Z",
          "shell.execute_reply": "2025-01-29T19:30:07.403367Z"
        },
        "id": "kCadv2ytm5XQ",
        "outputId": "9a78b4f2-1635-4ddc-c57b-c744cb329b21"
      },
      "outputs": [
        {
          "execution_count": 13,
          "output_type": "execute_result",
          "data": {
            "text/plain": "array([0.        , 0.        , 0.        , 0.        , 0.        ,\n       0.        , 0.        , 0.        , 0.        , 0.        ,\n       0.        , 0.        , 0.        , 0.        , 0.        ,\n       0.        , 0.        , 0.        , 0.        , 0.        ,\n       0.        , 0.        , 0.        , 0.        , 0.        ,\n       0.        , 0.        , 0.        , 0.        , 0.        ,\n       0.        , 0.        , 0.        , 0.        , 0.        ,\n       0.        , 0.        , 0.        , 0.        , 0.        ,\n       0.        , 0.        , 0.        , 0.        , 0.        ,\n       0.        , 0.        , 0.        , 0.        , 0.        ,\n       0.        , 0.        , 0.        , 0.        , 0.        ,\n       0.        , 0.        , 0.        , 0.        , 0.        ,\n       0.        , 0.        , 0.        , 0.        , 0.        ,\n       0.        , 0.        , 0.        , 0.        , 0.        ,\n       0.        , 0.        , 0.        , 0.        , 0.        ,\n       0.        , 0.        , 0.        , 0.        , 0.        ,\n       0.        , 0.        , 0.        , 0.        , 0.        ,\n       0.        , 0.        , 0.        , 0.        , 0.        ,\n       0.        , 0.        , 0.        , 0.        , 0.        ,\n       0.        , 0.        , 0.        , 0.        , 0.        ,\n       0.        , 0.        , 0.        , 0.        , 0.        ,\n       0.        , 0.        , 0.        , 0.        , 0.        ,\n       0.        , 0.        , 0.        , 0.        , 0.        ,\n       0.        , 0.        , 0.        , 0.        , 0.        ,\n       0.        , 0.        , 0.        , 0.        , 0.        ,\n       0.        , 0.        , 0.        , 0.        , 0.        ,\n       0.        , 0.        , 0.        , 0.        , 0.        ,\n       0.        , 0.        , 0.        , 0.        , 0.        ,\n       0.        , 0.        , 0.        , 0.        , 0.        ,\n       0.        , 0.        , 0.        , 0.        , 0.        ,\n       0.        , 0.        , 0.01176471, 0.07058824, 0.07058824,\n       0.07058824, 0.49411765, 0.53333333, 0.68627451, 0.10196078,\n       0.65098039, 1.        , 0.96862745, 0.49803922, 0.        ,\n       0.        , 0.        , 0.        , 0.        , 0.        ,\n       0.        , 0.        , 0.        , 0.        , 0.        ,\n       0.        , 0.11764706, 0.14117647, 0.36862745, 0.60392157,\n       0.66666667, 0.99215686, 0.99215686, 0.99215686, 0.99215686,\n       0.99215686, 0.88235294, 0.6745098 , 0.99215686, 0.94901961,\n       0.76470588, 0.25098039, 0.        , 0.        , 0.        ,\n       0.        , 0.        , 0.        , 0.        , 0.        ,\n       0.        , 0.        , 0.        , 0.19215686, 0.93333333,\n       0.99215686, 0.99215686, 0.99215686, 0.99215686, 0.99215686,\n       0.99215686, 0.99215686, 0.99215686, 0.98431373, 0.36470588,\n       0.32156863, 0.32156863, 0.21960784, 0.15294118, 0.        ,\n       0.        , 0.        , 0.        , 0.        , 0.        ,\n       0.        , 0.        , 0.        , 0.        , 0.        ,\n       0.        , 0.07058824, 0.85882353, 0.99215686, 0.99215686,\n       0.99215686, 0.99215686, 0.99215686, 0.77647059, 0.71372549,\n       0.96862745, 0.94509804, 0.        , 0.        , 0.        ,\n       0.        , 0.        , 0.        , 0.        , 0.        ,\n       0.        , 0.        , 0.        , 0.        , 0.        ,\n       0.        , 0.        , 0.        , 0.        , 0.        ,\n       0.31372549, 0.61176471, 0.41960784, 0.99215686, 0.99215686,\n       0.80392157, 0.04313725, 0.        , 0.16862745, 0.60392157,\n       0.        , 0.        , 0.        , 0.        , 0.        ,\n       0.        , 0.        , 0.        , 0.        , 0.        ,\n       0.        , 0.        , 0.        , 0.        , 0.        ,\n       0.        , 0.        , 0.        , 0.        , 0.05490196,\n       0.00392157, 0.60392157, 0.99215686, 0.35294118, 0.        ,\n       0.        , 0.        , 0.        , 0.        , 0.        ,\n       0.        , 0.        , 0.        , 0.        , 0.        ,\n       0.        , 0.        , 0.        , 0.        , 0.        ,\n       0.        , 0.        , 0.        , 0.        , 0.        ,\n       0.        , 0.        , 0.        , 0.        , 0.54509804,\n       0.99215686, 0.74509804, 0.00784314, 0.        , 0.        ,\n       0.        , 0.        , 0.        , 0.        , 0.        ,\n       0.        , 0.        , 0.        , 0.        , 0.        ,\n       0.        , 0.        , 0.        , 0.        , 0.        ,\n       0.        , 0.        , 0.        , 0.        , 0.        ,\n       0.        , 0.        , 0.04313725, 0.74509804, 0.99215686,\n       0.2745098 , 0.        , 0.        , 0.        , 0.        ,\n       0.        , 0.        , 0.        , 0.        , 0.        ,\n       0.        , 0.        , 0.        , 0.        , 0.        ,\n       0.        , 0.        , 0.        , 0.        , 0.        ,\n       0.        , 0.        , 0.        , 0.        , 0.        ,\n       0.        , 0.1372549 , 0.94509804, 0.88235294, 0.62745098,\n       0.42352941, 0.00392157, 0.        , 0.        , 0.        ,\n       0.        , 0.        , 0.        , 0.        , 0.        ,\n       0.        , 0.        , 0.        , 0.        , 0.        ,\n       0.        , 0.        , 0.        , 0.        , 0.        ,\n       0.        , 0.        , 0.        , 0.        , 0.        ,\n       0.31764706, 0.94117647, 0.99215686, 0.99215686, 0.46666667,\n       0.09803922, 0.        , 0.        , 0.        , 0.        ,\n       0.        , 0.        , 0.        , 0.        , 0.        ,\n       0.        , 0.        , 0.        , 0.        , 0.        ,\n       0.        , 0.        , 0.        , 0.        , 0.        ,\n       0.        , 0.        , 0.        , 0.        , 0.17647059,\n       0.72941176, 0.99215686, 0.99215686, 0.58823529, 0.10588235,\n       0.        , 0.        , 0.        , 0.        , 0.        ,\n       0.        , 0.        , 0.        , 0.        , 0.        ,\n       0.        , 0.        , 0.        , 0.        , 0.        ,\n       0.        , 0.        , 0.        , 0.        , 0.        ,\n       0.        , 0.        , 0.        , 0.0627451 , 0.36470588,\n       0.98823529, 0.99215686, 0.73333333, 0.        , 0.        ,\n       0.        , 0.        , 0.        , 0.        , 0.        ,\n       0.        , 0.        , 0.        , 0.        , 0.        ,\n       0.        , 0.        , 0.        , 0.        , 0.        ,\n       0.        , 0.        , 0.        , 0.        , 0.        ,\n       0.        , 0.        , 0.        , 0.97647059, 0.99215686,\n       0.97647059, 0.25098039, 0.        , 0.        , 0.        ,\n       0.        , 0.        , 0.        , 0.        , 0.        ,\n       0.        , 0.        , 0.        , 0.        , 0.        ,\n       0.        , 0.        , 0.        , 0.        , 0.        ,\n       0.        , 0.        , 0.        , 0.18039216, 0.50980392,\n       0.71764706, 0.99215686, 0.99215686, 0.81176471, 0.00784314,\n       0.        , 0.        , 0.        , 0.        , 0.        ,\n       0.        , 0.        , 0.        , 0.        , 0.        ,\n       0.        , 0.        , 0.        , 0.        , 0.        ,\n       0.        , 0.        , 0.        , 0.        , 0.15294118,\n       0.58039216, 0.89803922, 0.99215686, 0.99215686, 0.99215686,\n       0.98039216, 0.71372549, 0.        , 0.        , 0.        ,\n       0.        , 0.        , 0.        , 0.        , 0.        ,\n       0.        , 0.        , 0.        , 0.        , 0.        ,\n       0.        , 0.        , 0.        , 0.        , 0.        ,\n       0.09411765, 0.44705882, 0.86666667, 0.99215686, 0.99215686,\n       0.99215686, 0.99215686, 0.78823529, 0.30588235, 0.        ,\n       0.        , 0.        , 0.        , 0.        , 0.        ,\n       0.        , 0.        , 0.        , 0.        , 0.        ,\n       0.        , 0.        , 0.        , 0.        , 0.        ,\n       0.        , 0.09019608, 0.25882353, 0.83529412, 0.99215686,\n       0.99215686, 0.99215686, 0.99215686, 0.77647059, 0.31764706,\n       0.00784314, 0.        , 0.        , 0.        , 0.        ,\n       0.        , 0.        , 0.        , 0.        , 0.        ,\n       0.        , 0.        , 0.        , 0.        , 0.        ,\n       0.        , 0.        , 0.07058824, 0.67058824, 0.85882353,\n       0.99215686, 0.99215686, 0.99215686, 0.99215686, 0.76470588,\n       0.31372549, 0.03529412, 0.        , 0.        , 0.        ,\n       0.        , 0.        , 0.        , 0.        , 0.        ,\n       0.        , 0.        , 0.        , 0.        , 0.        ,\n       0.        , 0.        , 0.        , 0.21568627, 0.6745098 ,\n       0.88627451, 0.99215686, 0.99215686, 0.99215686, 0.99215686,\n       0.95686275, 0.52156863, 0.04313725, 0.        , 0.        ,\n       0.        , 0.        , 0.        , 0.        , 0.        ,\n       0.        , 0.        , 0.        , 0.        , 0.        ,\n       0.        , 0.        , 0.        , 0.        , 0.        ,\n       0.        , 0.53333333, 0.99215686, 0.99215686, 0.99215686,\n       0.83137255, 0.52941176, 0.51764706, 0.0627451 , 0.        ,\n       0.        , 0.        , 0.        , 0.        , 0.        ,\n       0.        , 0.        , 0.        , 0.        , 0.        ,\n       0.        , 0.        , 0.        , 0.        , 0.        ,\n       0.        , 0.        , 0.        , 0.        , 0.        ,\n       0.        , 0.        , 0.        , 0.        , 0.        ,\n       0.        , 0.        , 0.        , 0.        , 0.        ,\n       0.        , 0.        , 0.        , 0.        , 0.        ,\n       0.        , 0.        , 0.        , 0.        , 0.        ,\n       0.        , 0.        , 0.        , 0.        , 0.        ,\n       0.        , 0.        , 0.        , 0.        , 0.        ,\n       0.        , 0.        , 0.        , 0.        , 0.        ,\n       0.        , 0.        , 0.        , 0.        , 0.        ,\n       0.        , 0.        , 0.        , 0.        , 0.        ,\n       0.        , 0.        , 0.        , 0.        , 0.        ,\n       0.        , 0.        , 0.        , 0.        , 0.        ,\n       0.        , 0.        , 0.        , 0.        , 0.        ,\n       0.        , 0.        , 0.        , 0.        , 0.        ,\n       0.        , 0.        , 0.        , 0.        , 0.        ,\n       0.        , 0.        , 0.        , 0.        , 0.        ,\n       0.        , 0.        , 0.        , 0.        ])"
          },
          "metadata": {}
        }
      ],
      "execution_count": null
    },
    {
      "cell_type": "code",
      "source": [
        "model = keras.Sequential([\n",
        "    keras.layers.Dense(10, input_shape=(784,), activation='sigmoid')\n",
        "])\n",
        "\n",
        "model.compile(optimizer='adam',\n",
        "              loss='sparse_categorical_crossentropy',\n",
        "              metrics=['accuracy'])\n",
        "\n",
        "model.fit(X_train_flattened, y_train, epochs=5)"
      ],
      "metadata": {
        "trusted": true,
        "execution": {
          "iopub.status.busy": "2025-01-29T19:30:07.404748Z",
          "iopub.execute_input": "2025-01-29T19:30:07.40496Z",
          "iopub.status.idle": "2025-01-29T19:30:22.830099Z",
          "shell.execute_reply.started": "2025-01-29T19:30:07.404942Z",
          "shell.execute_reply": "2025-01-29T19:30:22.829448Z"
        },
        "id": "G4Noha0im5XQ",
        "outputId": "bbcdcdc6-301a-4aee-bfdf-d7a4e9a49fcf"
      },
      "outputs": [
        {
          "name": "stderr",
          "text": "/usr/local/lib/python3.10/dist-packages/keras/src/layers/core/dense.py:87: UserWarning: Do not pass an `input_shape`/`input_dim` argument to a layer. When using Sequential models, prefer using an `Input(shape)` object as the first layer in the model instead.\n  super().__init__(activity_regularizer=activity_regularizer, **kwargs)\n",
          "output_type": "stream"
        },
        {
          "name": "stdout",
          "text": "Epoch 1/5\n\u001b[1m1875/1875\u001b[0m \u001b[32m━━━━━━━━━━━━━━━━━━━━\u001b[0m\u001b[37m\u001b[0m \u001b[1m4s\u001b[0m 1ms/step - accuracy: 0.8182 - loss: 0.7098\nEpoch 2/5\n\u001b[1m1875/1875\u001b[0m \u001b[32m━━━━━━━━━━━━━━━━━━━━\u001b[0m\u001b[37m\u001b[0m \u001b[1m2s\u001b[0m 1ms/step - accuracy: 0.9151 - loss: 0.3101\nEpoch 3/5\n\u001b[1m1875/1875\u001b[0m \u001b[32m━━━━━━━━━━━━━━━━━━━━\u001b[0m\u001b[37m\u001b[0m \u001b[1m2s\u001b[0m 1ms/step - accuracy: 0.9197 - loss: 0.2875\nEpoch 4/5\n\u001b[1m1875/1875\u001b[0m \u001b[32m━━━━━━━━━━━━━━━━━━━━\u001b[0m\u001b[37m\u001b[0m \u001b[1m2s\u001b[0m 1ms/step - accuracy: 0.9250 - loss: 0.2744\nEpoch 5/5\n\u001b[1m1875/1875\u001b[0m \u001b[32m━━━━━━━━━━━━━━━━━━━━\u001b[0m\u001b[37m\u001b[0m \u001b[1m2s\u001b[0m 1ms/step - accuracy: 0.9273 - loss: 0.2603\n",
          "output_type": "stream"
        },
        {
          "execution_count": 14,
          "output_type": "execute_result",
          "data": {
            "text/plain": "<keras.src.callbacks.history.History at 0x7ab79a206c80>"
          },
          "metadata": {}
        }
      ],
      "execution_count": null
    },
    {
      "cell_type": "code",
      "source": [
        "model.evaluate(X_test_flattened, y_test)"
      ],
      "metadata": {
        "trusted": true,
        "execution": {
          "iopub.status.busy": "2025-01-29T19:30:22.83091Z",
          "iopub.execute_input": "2025-01-29T19:30:22.831194Z",
          "iopub.status.idle": "2025-01-29T19:30:24.084412Z",
          "shell.execute_reply.started": "2025-01-29T19:30:22.831152Z",
          "shell.execute_reply": "2025-01-29T19:30:24.083535Z"
        },
        "id": "5SGJLTlEm5XQ",
        "outputId": "9635a0b5-cc18-45dd-c02e-d4d44d4f7bad"
      },
      "outputs": [
        {
          "name": "stdout",
          "text": "\u001b[1m313/313\u001b[0m \u001b[32m━━━━━━━━━━━━━━━━━━━━\u001b[0m\u001b[37m\u001b[0m \u001b[1m1s\u001b[0m 2ms/step - accuracy: 0.9159 - loss: 0.3071\n",
          "output_type": "stream"
        },
        {
          "execution_count": 15,
          "output_type": "execute_result",
          "data": {
            "text/plain": "[0.26992067694664, 0.9254000186920166]"
          },
          "metadata": {}
        }
      ],
      "execution_count": null
    },
    {
      "cell_type": "code",
      "source": [
        "y_predicted = model.predict(X_test_flattened)\n",
        "y_predicted[0]"
      ],
      "metadata": {
        "trusted": true,
        "execution": {
          "iopub.status.busy": "2025-01-29T19:30:24.085369Z",
          "iopub.execute_input": "2025-01-29T19:30:24.085696Z",
          "iopub.status.idle": "2025-01-29T19:30:24.885376Z",
          "shell.execute_reply.started": "2025-01-29T19:30:24.085664Z",
          "shell.execute_reply": "2025-01-29T19:30:24.884656Z"
        },
        "id": "B1kLG_8Am5XQ",
        "outputId": "44d8aa4b-4934-4598-e833-b921f64680e6"
      },
      "outputs": [
        {
          "name": "stdout",
          "text": "\u001b[1m313/313\u001b[0m \u001b[32m━━━━━━━━━━━━━━━━━━━━\u001b[0m\u001b[37m\u001b[0m \u001b[1m1s\u001b[0m 1ms/step\n",
          "output_type": "stream"
        },
        {
          "execution_count": 16,
          "output_type": "execute_result",
          "data": {
            "text/plain": "array([1.6224839e-02, 3.2121628e-07, 5.9630901e-02, 9.6793258e-01,\n       2.3226331e-03, 9.3657628e-02, 1.5372977e-06, 9.9977070e-01,\n       1.0356641e-01, 6.5190226e-01], dtype=float32)"
          },
          "metadata": {}
        }
      ],
      "execution_count": null
    },
    {
      "cell_type": "code",
      "source": [
        "plt.matshow(X_test[0])"
      ],
      "metadata": {
        "trusted": true,
        "execution": {
          "iopub.status.busy": "2025-01-29T19:30:24.886091Z",
          "iopub.execute_input": "2025-01-29T19:30:24.886323Z",
          "iopub.status.idle": "2025-01-29T19:30:25.10373Z",
          "shell.execute_reply.started": "2025-01-29T19:30:24.886285Z",
          "shell.execute_reply": "2025-01-29T19:30:25.102963Z"
        },
        "id": "UcfvQF2vm5XR",
        "outputId": "17197e42-92b0-4332-82b3-227ad25e1646"
      },
      "outputs": [
        {
          "execution_count": 17,
          "output_type": "execute_result",
          "data": {
            "text/plain": "<matplotlib.image.AxesImage at 0x7ab79a19e920>"
          },
          "metadata": {}
        },
        {
          "output_type": "display_data",
          "data": {
            "text/plain": "<Figure size 480x480 with 1 Axes>",
            "image/png": "[encoded data removed]"
          },
          "metadata": {}
        }
      ],
      "execution_count": null
    },
    {
      "cell_type": "code",
      "source": [
        "np.argmax(y_predicted[0])"
      ],
      "metadata": {
        "trusted": true,
        "execution": {
          "iopub.status.busy": "2025-01-29T19:30:25.104565Z",
          "iopub.execute_input": "2025-01-29T19:30:25.104807Z",
          "iopub.status.idle": "2025-01-29T19:30:25.109848Z",
          "shell.execute_reply.started": "2025-01-29T19:30:25.104777Z",
          "shell.execute_reply": "2025-01-29T19:30:25.108883Z"
        },
        "id": "FBCin2TBm5XR",
        "outputId": "28b7f14a-a528-4ed6-cea2-4f18311dc29b"
      },
      "outputs": [
        {
          "execution_count": 18,
          "output_type": "execute_result",
          "data": {
            "text/plain": "7"
          },
          "metadata": {}
        }
      ],
      "execution_count": null
    },
    {
      "cell_type": "code",
      "source": [
        "y_predicted_labels = [np.argmax(i) for i in y_predicted]"
      ],
      "metadata": {
        "trusted": true,
        "execution": {
          "iopub.status.busy": "2025-01-29T19:30:25.110762Z",
          "iopub.execute_input": "2025-01-29T19:30:25.111094Z",
          "iopub.status.idle": "2025-01-29T19:30:25.141973Z",
          "shell.execute_reply.started": "2025-01-29T19:30:25.111067Z",
          "shell.execute_reply": "2025-01-29T19:30:25.14112Z"
        },
        "id": "QwrRFQnTm5XR"
      },
      "outputs": [],
      "execution_count": null
    },
    {
      "cell_type": "code",
      "source": [
        "y_predicted_labels[:5]"
      ],
      "metadata": {
        "trusted": true,
        "execution": {
          "iopub.status.busy": "2025-01-29T19:30:25.142894Z",
          "iopub.execute_input": "2025-01-29T19:30:25.14318Z",
          "iopub.status.idle": "2025-01-29T19:30:25.147681Z",
          "shell.execute_reply.started": "2025-01-29T19:30:25.143161Z",
          "shell.execute_reply": "2025-01-29T19:30:25.146905Z"
        },
        "id": "W1bn3iAKm5XR",
        "outputId": "56283892-a77c-4a75-95ff-4c560e8d1ee9"
      },
      "outputs": [
        {
          "execution_count": 20,
          "output_type": "execute_result",
          "data": {
            "text/plain": "[7, 2, 1, 0, 4]"
          },
          "metadata": {}
        }
      ],
      "execution_count": null
    },
    {
      "cell_type": "code",
      "source": [
        "cm = tf.math.confusion_matrix(labels=y_test,predictions=y_predicted_labels)\n"
      ],
      "metadata": {
        "trusted": true,
        "execution": {
          "iopub.status.busy": "2025-01-29T19:30:25.148544Z",
          "iopub.execute_input": "2025-01-29T19:30:25.148744Z",
          "iopub.status.idle": "2025-01-29T19:30:25.651827Z",
          "shell.execute_reply.started": "2025-01-29T19:30:25.148727Z",
          "shell.execute_reply": "2025-01-29T19:30:25.651038Z"
        },
        "id": "9sgdht7Jm5XR",
        "outputId": "6a9d515f-a62e-4b46-fa95-15c2b7723b15"
      },
      "outputs": [
        {
          "execution_count": 21,
          "output_type": "execute_result",
          "data": {
            "text/plain": "<tf.Tensor: shape=(10, 10), dtype=int32, numpy=\narray([[ 958,    0,    2,    2,    0,    7,    7,    2,    2,    0],\n       [   0, 1112,    3,    2,    0,    1,    4,    2,   11,    0],\n       [   4,   10,  915,   20,    7,    5,   12,   10,   47,    2],\n       [   2,    0,   12,  945,    0,    9,    3,   11,   22,    6],\n       [   1,    1,    3,    2,  911,    0,   13,    5,   11,   35],\n       [   9,    2,    3,   49,    7,  755,   16,    6,   38,    7],\n       [  10,    3,    5,    1,    7,   11,  916,    2,    3,    0],\n       [   1,    7,   21,   10,    5,    0,    0,  954,    5,   25],\n       [   6,    7,    5,   26,    9,   20,    9,   12,  875,    5],\n       [  10,    7,    1,   12,   25,    6,    0,   23,   12,  913]],\n      dtype=int32)>"
          },
          "metadata": {}
        }
      ],
      "execution_count": null
    },
    {
      "cell_type": "code",
      "source": [
        "import seaborn as sn\n",
        "plt.figure(figsize = (10,7))\n",
        "sn.heatmap(cm, annot=True, fmt='d')\n",
        "plt.xlabel('Predicted')\n",
        "plt.ylabel('Truth')"
      ],
      "metadata": {
        "trusted": true,
        "execution": {
          "iopub.status.busy": "2025-01-29T19:30:25.652573Z",
          "iopub.execute_input": "2025-01-29T19:30:25.652784Z",
          "iopub.status.idle": "2025-01-29T19:30:26.104923Z",
          "shell.execute_reply.started": "2025-01-29T19:30:25.652766Z",
          "shell.execute_reply": "2025-01-29T19:30:26.104066Z"
        },
        "id": "oogchbuWm5XR",
        "outputId": "e713d3fd-a529-4747-a916-cdd0783478de"
      },
      "outputs": [
        {
          "execution_count": 22,
          "output_type": "execute_result",
          "data": {
            "text/plain": "Text(95.72222222222221, 0.5, 'Truth')"
          },
          "metadata": {}
        },
        {
          "output_type": "display_data",
          "data": {
            "text/plain": "<Figure size 1000x700 with 2 Axes>",
            "image/png": "[encoded data removed]"
          },
          "metadata": {}
        }
      ],
      "execution_count": null
    },
    {
      "cell_type": "code",
      "source": [
        "model = keras.Sequential([\n",
        "    keras.layers.Dense(100, input_shape=(784,), activation='relu'),\n",
        "    keras.layers.Dense(10, activation='sigmoid')\n",
        "])\n",
        "\n",
        "model.compile(optimizer='adam',\n",
        "              loss='sparse_categorical_crossentropy',\n",
        "              metrics=['accuracy'])\n",
        "\n",
        "model.fit(X_train_flattened, y_train, epochs=5)"
      ],
      "metadata": {
        "trusted": true,
        "execution": {
          "iopub.status.busy": "2025-01-29T19:30:26.105679Z",
          "iopub.execute_input": "2025-01-29T19:30:26.105895Z",
          "iopub.status.idle": "2025-01-29T19:30:39.586611Z",
          "shell.execute_reply.started": "2025-01-29T19:30:26.105876Z",
          "shell.execute_reply": "2025-01-29T19:30:39.585841Z"
        },
        "id": "6Bwg3E_sm5XR",
        "outputId": "935524bc-36a7-4132-869e-7e3130a27e19"
      },
      "outputs": [
        {
          "name": "stderr",
          "text": "/usr/local/lib/python3.10/dist-packages/keras/src/layers/core/dense.py:87: UserWarning: Do not pass an `input_shape`/`input_dim` argument to a layer. When using Sequential models, prefer using an `Input(shape)` object as the first layer in the model instead.\n  super().__init__(activity_regularizer=activity_regularizer, **kwargs)\n",
          "output_type": "stream"
        },
        {
          "name": "stdout",
          "text": "Epoch 1/5\n\u001b[1m1875/1875\u001b[0m \u001b[32m━━━━━━━━━━━━━━━━━━━━\u001b[0m\u001b[37m\u001b[0m \u001b[1m4s\u001b[0m 1ms/step - accuracy: 0.8661 - loss: 0.4701\nEpoch 2/5\n\u001b[1m1875/1875\u001b[0m \u001b[32m━━━━━━━━━━━━━━━━━━━━\u001b[0m\u001b[37m\u001b[0m \u001b[1m2s\u001b[0m 1ms/step - accuracy: 0.9602 - loss: 0.1345\nEpoch 3/5\n\u001b[1m1875/1875\u001b[0m \u001b[32m━━━━━━━━━━━━━━━━━━━━\u001b[0m\u001b[37m\u001b[0m \u001b[1m2s\u001b[0m 1ms/step - accuracy: 0.9745 - loss: 0.0872\nEpoch 4/5\n\u001b[1m1875/1875\u001b[0m \u001b[32m━━━━━━━━━━━━━━━━━━━━\u001b[0m\u001b[37m\u001b[0m \u001b[1m2s\u001b[0m 1ms/step - accuracy: 0.9814 - loss: 0.0626\nEpoch 5/5\n\u001b[1m1875/1875\u001b[0m \u001b[32m━━━━━━━━━━━━━━━━━━━━\u001b[0m\u001b[37m\u001b[0m \u001b[1m2s\u001b[0m 1ms/step - accuracy: 0.9843 - loss: 0.0508\n",
          "output_type": "stream"
        },
        {
          "execution_count": 23,
          "output_type": "execute_result",
          "data": {
            "text/plain": "<keras.src.callbacks.history.History at 0x7ab7782fb9a0>"
          },
          "metadata": {}
        }
      ],
      "execution_count": null
    },
    {
      "cell_type": "code",
      "source": [
        "model.evaluate(X_test_flattened,y_test)"
      ],
      "metadata": {
        "trusted": true,
        "execution": {
          "iopub.status.busy": "2025-01-29T19:30:39.587621Z",
          "iopub.execute_input": "2025-01-29T19:30:39.587941Z",
          "iopub.status.idle": "2025-01-29T19:30:40.845557Z",
          "shell.execute_reply.started": "2025-01-29T19:30:39.587909Z",
          "shell.execute_reply": "2025-01-29T19:30:40.844837Z"
        },
        "id": "U7GLq3BTm5XR",
        "outputId": "76402e0d-56b7-463f-e50d-a6920557ad92"
      },
      "outputs": [
        {
          "name": "stdout",
          "text": "\u001b[1m313/313\u001b[0m \u001b[32m━━━━━━━━━━━━━━━━━━━━\u001b[0m\u001b[37m\u001b[0m \u001b[1m1s\u001b[0m 2ms/step - accuracy: 0.9733 - loss: 0.0940\n",
          "output_type": "stream"
        },
        {
          "execution_count": 24,
          "output_type": "execute_result",
          "data": {
            "text/plain": "[0.08019831776618958, 0.9768000245094299]"
          },
          "metadata": {}
        }
      ],
      "execution_count": null
    },
    {
      "cell_type": "code",
      "source": [
        "y_predicted = model.predict(X_test_flattened)\n",
        "y_predicted_labels = [np.argmax(i) for i in y_predicted]\n",
        "cm = tf.math.confusion_matrix(labels=y_test,predictions=y_predicted_labels)\n",
        "\n",
        "plt.figure(figsize = (10,7))\n",
        "sn.heatmap(cm, annot=True, fmt='d')\n",
        "plt.xlabel('Predicted')\n",
        "plt.ylabel('Truth')"
      ],
      "metadata": {
        "trusted": true,
        "execution": {
          "iopub.status.busy": "2025-01-29T19:30:40.846379Z",
          "iopub.execute_input": "2025-01-29T19:30:40.846698Z",
          "iopub.status.idle": "2025-01-29T19:30:42.059817Z",
          "shell.execute_reply.started": "2025-01-29T19:30:40.846666Z",
          "shell.execute_reply": "2025-01-29T19:30:42.058898Z"
        },
        "id": "JYA70Mm8m5XR",
        "outputId": "91a07062-2ea2-4d86-bf48-578e7b0611b7"
      },
      "outputs": [
        {
          "name": "stdout",
          "text": "\u001b[1m313/313\u001b[0m \u001b[32m━━━━━━━━━━━━━━━━━━━━\u001b[0m\u001b[37m\u001b[0m \u001b[1m1s\u001b[0m 1ms/step\n",
          "output_type": "stream"
        },
        {
          "execution_count": 25,
          "output_type": "execute_result",
          "data": {
            "text/plain": "Text(95.72222222222221, 0.5, 'Truth')"
          },
          "metadata": {}
        },
        {
          "output_type": "display_data",
          "data": {
            "text/plain": "<Figure size 1000x700 with 2 Axes>",
            "image/png": "[encoded data removed]"
          },
          "metadata": {}
        }
      ],
      "execution_count": null
    },
    {
      "cell_type": "code",
      "source": [
        "model = keras.Sequential([\n",
        "    keras.layers.Flatten(input_shape=(28, 28)),\n",
        "    keras.layers.Dense(100, activation='relu'),\n",
        "    keras.layers.Dense(10, activation='sigmoid')\n",
        "])\n",
        "\n",
        "model.compile(optimizer='adam',\n",
        "              loss='sparse_categorical_crossentropy',\n",
        "              metrics=['accuracy'])\n",
        "\n",
        "model.fit(X_train, y_train, epochs=10)"
      ],
      "metadata": {
        "trusted": true,
        "execution": {
          "iopub.status.busy": "2025-01-29T19:30:42.060863Z",
          "iopub.execute_input": "2025-01-29T19:30:42.061182Z",
          "iopub.status.idle": "2025-01-29T19:31:06.727228Z",
          "shell.execute_reply.started": "2025-01-29T19:30:42.061151Z",
          "shell.execute_reply": "2025-01-29T19:31:06.726381Z"
        },
        "id": "lB_oaxR0m5XR",
        "outputId": "451e6cb0-1657-4ee2-ab11-1298f69fa27b"
      },
      "outputs": [
        {
          "name": "stderr",
          "text": "/usr/local/lib/python3.10/dist-packages/keras/src/layers/reshaping/flatten.py:37: UserWarning: Do not pass an `input_shape`/`input_dim` argument to a layer. When using Sequential models, prefer using an `Input(shape)` object as the first layer in the model instead.\n  super().__init__(**kwargs)\n",
          "output_type": "stream"
        },
        {
          "name": "stdout",
          "text": "Epoch 1/10\n\u001b[1m1875/1875\u001b[0m \u001b[32m━━━━━━━━━━━━━━━━━━━━\u001b[0m\u001b[37m\u001b[0m \u001b[1m3s\u001b[0m 1ms/step - accuracy: 0.8709 - loss: 0.4605\nEpoch 2/10\n\u001b[1m1875/1875\u001b[0m \u001b[32m━━━━━━━━━━━━━━━━━━━━\u001b[0m\u001b[37m\u001b[0m \u001b[1m2s\u001b[0m 1ms/step - accuracy: 0.9597 - loss: 0.1377\nEpoch 3/10\n\u001b[1m1875/1875\u001b[0m \u001b[32m━━━━━━━━━━━━━━━━━━━━\u001b[0m\u001b[37m\u001b[0m \u001b[1m2s\u001b[0m 1ms/step - accuracy: 0.9742 - loss: 0.0895\nEpoch 4/10\n\u001b[1m1875/1875\u001b[0m \u001b[32m━━━━━━━━━━━━━━━━━━━━\u001b[0m\u001b[37m\u001b[0m \u001b[1m2s\u001b[0m 1ms/step - accuracy: 0.9794 - loss: 0.0698\nEpoch 5/10\n\u001b[1m1875/1875\u001b[0m \u001b[32m━━━━━━━━━━━━━━━━━━━━\u001b[0m\u001b[37m\u001b[0m \u001b[1m2s\u001b[0m 1ms/step - accuracy: 0.9836 - loss: 0.0530\nEpoch 6/10\n\u001b[1m1875/1875\u001b[0m \u001b[32m━━━━━━━━━━━━━━━━━━━━\u001b[0m\u001b[37m\u001b[0m \u001b[1m2s\u001b[0m 1ms/step - accuracy: 0.9884 - loss: 0.0394\nEpoch 7/10\n\u001b[1m1875/1875\u001b[0m \u001b[32m━━━━━━━━━━━━━━━━━━━━\u001b[0m\u001b[37m\u001b[0m \u001b[1m2s\u001b[0m 1ms/step - accuracy: 0.9899 - loss: 0.0327\nEpoch 8/10\n\u001b[1m1875/1875\u001b[0m \u001b[32m━━━━━━━━━━━━━━━━━━━━\u001b[0m\u001b[37m\u001b[0m \u001b[1m2s\u001b[0m 1ms/step - accuracy: 0.9925 - loss: 0.0245\nEpoch 9/10\n\u001b[1m1875/1875\u001b[0m \u001b[32m━━━━━━━━━━━━━━━━━━━━\u001b[0m\u001b[37m\u001b[0m \u001b[1m2s\u001b[0m 1ms/step - accuracy: 0.9931 - loss: 0.0228\nEpoch 10/10\n\u001b[1m1875/1875\u001b[0m \u001b[32m━━━━━━━━━━━━━━━━━━━━\u001b[0m\u001b[37m\u001b[0m \u001b[1m2s\u001b[0m 1ms/step - accuracy: 0.9946 - loss: 0.0183\n",
          "output_type": "stream"
        },
        {
          "execution_count": 26,
          "output_type": "execute_result",
          "data": {
            "text/plain": "<keras.src.callbacks.history.History at 0x7ab77056a860>"
          },
          "metadata": {}
        }
      ],
      "execution_count": null
    },
    {
      "cell_type": "code",
      "source": [
        "model.evaluate(X_test,y_test)"
      ],
      "metadata": {
        "trusted": true,
        "execution": {
          "iopub.status.busy": "2025-01-29T19:31:06.730274Z",
          "iopub.execute_input": "2025-01-29T19:31:06.730574Z",
          "iopub.status.idle": "2025-01-29T19:31:07.68601Z",
          "shell.execute_reply.started": "2025-01-29T19:31:06.73055Z",
          "shell.execute_reply": "2025-01-29T19:31:07.685094Z"
        },
        "id": "mb8XrSvpm5XS",
        "outputId": "061e896b-fb6f-4439-86b3-c3177a2e9ecc"
      },
      "outputs": [
        {
          "name": "stdout",
          "text": "\u001b[1m313/313\u001b[0m \u001b[32m━━━━━━━━━━━━━━━━━━━━\u001b[0m\u001b[37m\u001b[0m \u001b[1m1s\u001b[0m 2ms/step - accuracy: 0.9762 - loss: 0.0876\n",
          "output_type": "stream"
        },
        {
          "execution_count": 27,
          "output_type": "execute_result",
          "data": {
            "text/plain": "[0.07848251610994339, 0.9789999723434448]"
          },
          "metadata": {}
        }
      ],
      "execution_count": null
    },
    {
      "cell_type": "code",
      "source": [
        "model.save(\"mnist_model.h5\")"
      ],
      "metadata": {
        "trusted": true,
        "execution": {
          "iopub.status.busy": "2025-01-29T19:32:50.770975Z",
          "iopub.execute_input": "2025-01-29T19:32:50.771291Z",
          "iopub.status.idle": "2025-01-29T19:32:50.789648Z",
          "shell.execute_reply.started": "2025-01-29T19:32:50.771269Z",
          "shell.execute_reply": "2025-01-29T19:32:50.788831Z"
        },
        "id": "swQeUoMqm5XS"
      },
      "outputs": [],
      "execution_count": null
    }
  ]
}